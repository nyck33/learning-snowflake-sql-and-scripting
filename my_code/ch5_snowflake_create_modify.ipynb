{
 "cells": [
  {
   "cell_type": "code",
   "execution_count": 1,
   "metadata": {},
   "outputs": [
    {
     "name": "stdout",
     "output_type": "stream",
     "text": [
      "OpenAI_API_KEY: xxxxxxxxxxxxxxxxxxxxxxxxxxxxxxxxxxxxxxxxxxxxxxxxxxx\n",
      "snowflake_account: ie62028.ap-northeast-1.aws\n",
      "warehouse: COMPUTE_WH\n",
      "database: LEARNING_SQL\n",
      "schema: PUBLIC\n",
      "role: ACCOUNTADMIN\n"
     ]
    }
   ],
   "source": [
    "from snowflake.snowpark import Session \n",
    "from dotenv import load_dotenv\n",
    "import os\n",
    "load_dotenv()\n",
    "\n",
    "# use the env vars in comments above to set the vars below\n",
    "OpenAI_API_KEY = os.getenv(\"OPENAI_API_KEY\")\n",
    "snowflake_account = os.getenv(\"SNOWFLAKE_ACCOUNT\")\n",
    "username = os.getenv(\"SNOWFLAKE_USER\")\n",
    "password = os.getenv(\"SNOWSQL_PWD\")\n",
    "warehouse = os.getenv(\"WAREHOUSE\")\n",
    "database = os.getenv(\"DATABASE\")\n",
    "schema = os.getenv(\"SCHEMA\")\n",
    "role = os.getenv(\"ROLE\")\n",
    "\n",
    "\n",
    "# print out all env vars using f-strings each on a separate line but x out password\n",
    "print(f\"OpenAI_API_KEY: {'x' * len(OpenAI_API_KEY)}\")\n",
    "print(f\"snowflake_account: {snowflake_account}\")\n",
    "#print(f\"username: {username}\")\n",
    "#print(f\"password: {password}\")\n",
    "print(f\"warehouse: {warehouse}\")\n",
    "print(f\"database: {database}\")\n",
    "print(f\"schema: {schema}\")\n",
    "print(f\"role: {role}\")\n",
    "\n",
    "\n"
   ]
  },
  {
   "cell_type": "code",
   "execution_count": 2,
   "metadata": {},
   "outputs": [],
   "source": [
    "import snowflake.connector\n",
    "import os\n",
    "\n",
    "conn = snowflake.connector.connect(\n",
    "    user=username,\n",
    "    password=password,\n",
    "    account=snowflake_account,\n",
    "    warehouse=warehouse,\n",
    "    database=database,\n",
    "    schema=schema,\n",
    "    role=role\n",
    "    )\n",
    "\n"
   ]
  },
  {
   "cell_type": "code",
   "execution_count": 3,
   "metadata": {},
   "outputs": [],
   "source": [
    "def execute_query(connection, query):\n",
    "    '''\n",
    "    return list of tuples from query\n",
    "    usage:\n",
    "    result = execute_query(conn, \"DESCRIBE TABLE customer\")\n",
    "    for row in result:\n",
    "        print(row)\n",
    "\n",
    "    conn.close()\n",
    "    '''\n",
    "    cursor = connection.cursor()\n",
    "    try:\n",
    "        cursor.execute(query)\n",
    "        # Fetch all rows\n",
    "        rows = cursor.fetchall()\n",
    "        # Alternatively, fetch one row at a time with cursor.fetchone()\n",
    "        return rows\n",
    "    except Exception as e:\n",
    "        print(f\"An error occurred: {e}\")\n",
    "    finally:\n",
    "        cursor.close()"
   ]
  },
  {
   "cell_type": "code",
   "execution_count": 4,
   "metadata": {},
   "outputs": [],
   "source": [
    "import pandas as pd\n",
    "\n",
    "def query_to_dataframe(connection, query):\n",
    "    '''\n",
    "    # Usage\n",
    "    df = query_to_dataframe(conn, \"SELECT * FROM customer\")\n",
    "    print(df)\n",
    "    '''\n",
    "    cursor = connection.cursor()\n",
    "    try:\n",
    "        cursor.execute(query)\n",
    "        # Get the result set's column names\n",
    "        columns = [col[0] for col in cursor.description]\n",
    "        rows = cursor.fetchall()\n",
    "        return pd.DataFrame(rows, columns=columns)\n",
    "    except Exception as e:\n",
    "        print(f\"An error occurred: {e}\")\n",
    "    finally:\n",
    "        cursor.close()\n"
   ]
  },
  {
   "cell_type": "code",
   "execution_count": 5,
   "metadata": {},
   "outputs": [],
   "source": [
    "connection_parameters = {\n",
    "    \"user\": username,\n",
    "    \"password\": password,\n",
    "    \"account\": snowflake_account,\n",
    "    \"warehouse\": warehouse,\n",
    "    \"database\": database,\n",
    "    \"schema\": schema,\n",
    "    \"role\": role\n",
    "    \n",
    "}"
   ]
  },
  {
   "cell_type": "code",
   "execution_count": 6,
   "metadata": {},
   "outputs": [
    {
     "name": "stdout",
     "output_type": "stream",
     "text": [
      "      OUTPUT_STRING\n",
      "0  here is a string\n"
     ]
    }
   ],
   "source": [
    "query = \"\"\"\n",
    "SELECT 'here is a string' as output_string; \n",
    "\"\"\"\n",
    "\n",
    "df = query_to_dataframe(conn, query)\n",
    "print(df)"
   ]
  },
  {
   "cell_type": "code",
   "execution_count": 7,
   "metadata": {},
   "outputs": [
    {
     "name": "stdout",
     "output_type": "stream",
     "text": [
      "                     OUTPUT_STRING\n",
      "0  you haven't reached the end yet\n"
     ]
    }
   ],
   "source": [
    "query = \"\"\"\n",
    "select 'you haven''t reached the end yet' as output_string;\n",
    "\"\"\"\n",
    "\n",
    "df = query_to_dataframe(conn, query)\n",
    "print(df)"
   ]
  },
  {
   "cell_type": "code",
   "execution_count": 8,
   "metadata": {},
   "outputs": [
    {
     "name": "stdout",
     "output_type": "stream",
     "text": [
      "                     OUTPUT_STRING\n",
      "0  you haven't reached the end yet\n"
     ]
    }
   ],
   "source": [
    "query = \"\"\" \n",
    "select 'you haven''t reached the end yet' as output_string;\n",
    "\"\"\"\n",
    "df = query_to_dataframe(conn, query)\n",
    "print(df)"
   ]
  },
  {
   "cell_type": "code",
   "execution_count": 9,
   "metadata": {},
   "outputs": [
    {
     "name": "stdout",
     "output_type": "stream",
     "text": [
      "                      OUTPUT_STRING\n",
      "0  string with 4 single quotes ''''\n"
     ]
    }
   ],
   "source": [
    "query = \"\"\"\n",
    "select $$string with 4 single quotes ''''$$ as output_string; \n",
    "\"\"\"\n",
    "df = query_to_dataframe(conn, query)\n",
    "print(df)"
   ]
  },
  {
   "cell_type": "code",
   "execution_count": 10,
   "metadata": {},
   "outputs": [
    {
     "name": "stdout",
     "output_type": "stream",
     "text": [
      "        key                value              default level description  \\\n",
      "0  TIMEZONE  America/Los_Angeles  America/Los_Angeles         time zone   \n",
      "\n",
      "     type  \n",
      "0  STRING  \n"
     ]
    }
   ],
   "source": [
    "query = \"\"\"\n",
    "show parameters like 'timez%';\n",
    "\"\"\"\n",
    "df = query_to_dataframe(conn, query)\n",
    "print(df)\n"
   ]
  },
  {
   "cell_type": "code",
   "execution_count": 11,
   "metadata": {},
   "outputs": [
    {
     "name": "stdout",
     "output_type": "stream",
     "text": [
      "                             status\n",
      "0  Statement executed successfully.\n"
     ]
    }
   ],
   "source": [
    "query = \"\"\"\n",
    "alter session set TIMEZONE = 'Asia/Tokyo';\n",
    "\"\"\"\n",
    "df = query_to_dataframe(conn, query)\n",
    "print(df)"
   ]
  },
  {
   "cell_type": "code",
   "execution_count": 12,
   "metadata": {},
   "outputs": [
    {
     "name": "stdout",
     "output_type": "stream",
     "text": [
      "  CURRENT_DATE     CURRENT_TIME                CURRENT_TIMESTAMP\n",
      "0   2023-12-12  19:11:49.330000 2023-12-12 19:11:49.330000+09:00\n"
     ]
    }
   ],
   "source": [
    "'''\n",
    "Snowflake is very flexible regarding date literals and can handle many common formats. For example, Snowflake allowed all of the following string literals to be inserted into a date column:\n",
    "\n",
    "'24-OCT-2022'\n",
    "'10/24/2022'\n",
    "'2022-10-24'\n",
    "'''\n",
    "query = \"\"\"\n",
    "select current_date, current_time, current_timestamp;\n",
    "\"\"\"\n",
    "df = query_to_dataframe(conn, query)\n",
    "print(df)\n"
   ]
  },
  {
   "cell_type": "code",
   "execution_count": 13,
   "metadata": {},
   "outputs": [
    {
     "name": "stdout",
     "output_type": "stream",
     "text": [
      "Empty DataFrame\n",
      "Columns: [key, value, default, level, description, type]\n",
      "Index: []\n"
     ]
    }
   ],
   "source": [
    "query = \"\"\"\n",
    "show parameters like 'date_outputs%'; \n",
    "\"\"\"\n",
    "df = query_to_dataframe(conn, query)\n",
    "print(df)"
   ]
  },
  {
   "cell_type": "code",
   "execution_count": 14,
   "metadata": {},
   "outputs": [
    {
     "name": "stdout",
     "output_type": "stream",
     "text": [
      "                             status\n",
      "0  Statement executed successfully.\n",
      "  CURRENT_DATE     CURRENT_TIME                CURRENT_TIMESTAMP\n",
      "0   2023-12-12  19:11:49.690000 2023-12-12 19:11:49.690000+09:00\n"
     ]
    }
   ],
   "source": [
    "query1 = \"alter session set DATE_OUTPUT_FORMAT = 'YYYY-MM-DD';\"\n",
    "query2 = \"select current_date, current_time, current_timestamp;\"\n",
    "\n",
    "df1 = query_to_dataframe(conn, query1)\n",
    "df2 = query_to_dataframe(conn, query2)\n",
    "\n",
    "print(df1)\n",
    "print(df2)\n"
   ]
  },
  {
   "cell_type": "code",
   "execution_count": 15,
   "metadata": {},
   "outputs": [
    {
     "name": "stdout",
     "output_type": "stream",
     "text": [
      "   TRUE  FALSE  TRUE = TRUE  TRUE = FALSE\n",
      "0  True  False         True         False\n"
     ]
    }
   ],
   "source": [
    "query = \"\"\"\n",
    "select true, false, true = true, true = false;\n",
    "\"\"\"\n",
    "df = query_to_dataframe(conn, query)\n",
    "print(df)\n"
   ]
  },
  {
   "cell_type": "markdown",
   "metadata": {},
   "source": [
    "### variant is a swiss army knife that can hold any data type, use :: to cast to variant type"
   ]
  },
  {
   "cell_type": "code",
   "execution_count": 16,
   "metadata": {},
   "outputs": [
    {
     "name": "stdout",
     "output_type": "stream",
     "text": [
      "  1::VARIANT 'ABC'::VARIANT ARRAY_CONSTRUCT(1,2,3)::VARIANT  \\\n",
      "0          1          \"abc\"           [\\n  1,\\n  2,\\n  3\\n]   \n",
      "\n",
      "  CURRENT_DATE::VARIANT  \n",
      "0          \"2023-12-12\"  \n"
     ]
    }
   ],
   "source": [
    "query = \"\"\"\n",
    "select 1::variant, 'abc'::variant, array_construct(1,2,3)::variant, current_date::variant;\n",
    "\"\"\"\n",
    "df = query_to_dataframe(conn, query)\n",
    "print(df)\n"
   ]
  },
  {
   "cell_type": "code",
   "execution_count": 17,
   "metadata": {},
   "outputs": [
    {
     "name": "stdout",
     "output_type": "stream",
     "text": [
      "  TYPEOF('THIS IS A CHARACTER STRING'::VARIANT)\n",
      "0                                       VARCHAR\n"
     ]
    }
   ],
   "source": [
    "query = \"\"\"\n",
    "select typeof('this is a character string'::variant);\n",
    "\"\"\"\n",
    "df = query_to_dataframe(conn, query)\n",
    "print(df)\n"
   ]
  },
  {
   "cell_type": "code",
   "execution_count": 18,
   "metadata": {},
   "outputs": [
    {
     "name": "stdout",
     "output_type": "stream",
     "text": [
      "  TYPEOF(FALSE::VARIANT)\n",
      "0                BOOLEAN\n",
      "  TYPEOF(CURRENT_TIMESTAMP::VARIANT)\n",
      "0                      TIMESTAMP_LTZ\n"
     ]
    }
   ],
   "source": [
    "query = \"select typeof(false::variant);\"\n",
    "query2 = \"select typeof(current_timestamp::variant);\"\n",
    "\n",
    "df = query_to_dataframe(conn, query)\n",
    "df2 = query_to_dataframe(conn, query2)\n",
    "print(df)\n",
    "print(df2)"
   ]
  },
  {
   "cell_type": "code",
   "execution_count": 19,
   "metadata": {},
   "outputs": [
    {
     "name": "stdout",
     "output_type": "stream",
     "text": [
      "                            MY_ARRAY\n",
      "[\\n  123,\\n  \"ABC\",\\n  \"19:11:51\"\\n]\n"
     ]
    }
   ],
   "source": [
    "# array\n",
    "query = \"\"\"\n",
    "select [123, 'ABC', current_time] as my_array;\n",
    "\"\"\" \n",
    "df = query_to_dataframe(conn, query)\n",
    "#print as string, no index\n",
    "print(df.to_string(index=False))\n"
   ]
  },
  {
   "cell_type": "code",
   "execution_count": 20,
   "metadata": {},
   "outputs": [
    {
     "name": "stdout",
     "output_type": "stream",
     "text": [
      "     VALUE\n",
      "       123\n",
      "     \"ABC\"\n",
      "\"19:11:52\"\n",
      "        VALUE\n",
      "0         123\n",
      "1       \"ABC\"\n",
      "2  \"19:11:52\"\n"
     ]
    }
   ],
   "source": [
    "query = \"\"\"\n",
    "select value from table(flatten(input=>[123, 'ABC', current_time]));\n",
    "\"\"\" \n",
    "df = query_to_dataframe(conn, query)\n",
    "#print as string, no index  \n",
    "print(df.to_string(index=False))\n",
    "print(df)"
   ]
  },
  {
   "cell_type": "code",
   "execution_count": 21,
   "metadata": {},
   "outputs": [
    {
     "name": "stdout",
     "output_type": "stream",
     "text": [
      "                                                                            MY_OBJECT\n",
      "{\\n  \"christmas\": \"12/25\",\\n  \"independence_day\": \"07/04\",\\n  \"new_years\": \"01/01\"\\n}\n"
     ]
    }
   ],
   "source": [
    "# object \n",
    "query = \"\"\"\n",
    "select {'new_years': '01/01', 'independence_day': '07/04', 'christmas': '12/25'} as my_object;\n",
    "\"\"\" \n",
    "df = query_to_dataframe(conn, query)\n",
    "#print as string, no index  \n",
    "print(df.to_string(index=False))\n"
   ]
  },
  {
   "cell_type": "code",
   "execution_count": 22,
   "metadata": {},
   "outputs": [
    {
     "name": "stdout",
     "output_type": "stream",
     "text": [
      "             KEY   VALUE\n",
      "       christmas \"12/25\"\n",
      "independence_day \"07/04\"\n",
      "       new_years \"01/01\"\n"
     ]
    }
   ],
   "source": [
    "query = \"\"\" \n",
    "select key, value from table(flatten(\n",
    "    {'new_years': '01/01', \n",
    "    'independence_day': '07/04', \n",
    "    'christmas': '12/25'}));\n",
    "\"\"\"\n",
    "df = query_to_dataframe(conn, query)\n",
    "#print as string, no index\n",
    "print(df.to_string(index=False))\n"
   ]
  },
  {
   "cell_type": "code",
   "execution_count": 23,
   "metadata": {},
   "outputs": [
    {
     "name": "stdout",
     "output_type": "stream",
     "text": [
      "  VALUE\n",
      "\"07/04\"\n"
     ]
    }
   ],
   "source": [
    "# fetch key's value after flattening\n",
    "query = \"\"\"\n",
    "select value from table(flatten(\n",
    "    {'new_years': '01/01', \n",
    "    'independence_day': '07/04', \n",
    "    'christmas': '12/25'})) where key = 'independence_day';\n",
    "\"\"\"\n",
    "df = query_to_dataframe(conn, query)\n",
    "#print(df)\n",
    "#print as string, no index\n",
    "print(df.to_string(index=False))"
   ]
  },
  {
   "cell_type": "markdown",
   "metadata": {},
   "source": [
    "### creating tables"
   ]
  },
  {
   "cell_type": "code",
   "execution_count": 24,
   "metadata": {},
   "outputs": [
    {
     "name": "stdout",
     "output_type": "stream",
     "text": [
      "An error occurred: 002002 (42710): SQL compilation error:\n",
      "Object 'PERSON' already exists.\n",
      "None\n"
     ]
    }
   ],
   "source": [
    "query = \"\"\" \n",
    "create table person\n",
    "(first_name varchar(50), last_name varchar(50), birth_date date, eye_color varchar(50), \n",
    "occupation varchar(50), height float, weight float, favorite_color varchar(50));\n",
    "\"\"\"\n",
    "df = query_to_dataframe(conn, query)\n",
    "print(df)\n"
   ]
  },
  {
   "cell_type": "code",
   "execution_count": 25,
   "metadata": {},
   "outputs": [
    {
     "name": "stdout",
     "output_type": "stream",
     "text": [
      "   number of rows inserted\n",
      "0                        4\n"
     ]
    }
   ],
   "source": [
    "# populate person table created above\n",
    "query = \"\"\"\n",
    "insert into person\n",
    "values ('John', 'Smith', '1980-01-01', 'brown', 'programmer', 72.0, 180.0, 'blue'),\n",
    "('Jane', 'Doe', '1985-01-01', 'blue', 'data scientist', 64.0, 140.0, 'green'),\n",
    "('Joe', 'Schmoe', '1970-01-01', 'brown', 'salesman', 68.0, 155.0, 'brown'),\n",
    "('Jill', 'Smith', '1975-01-01', 'brown', 'manager', 66.0, 150.0, 'blue');\n",
    "\"\"\"\n",
    "df = query_to_dataframe(conn, query)\n",
    "print(df)\n"
   ]
  },
  {
   "cell_type": "code",
   "execution_count": 26,
   "metadata": {},
   "outputs": [
    {
     "name": "stdout",
     "output_type": "stream",
     "text": [
      "  FIRST_NAME LAST_NAME  BIRTH_DATE EYE_COLOR      OCCUPATION  HEIGHT  WEIGHT  \\\n",
      "0       John     Smith  1980-01-01     brown      programmer    72.0   180.0   \n",
      "1       Jane       Doe  1985-01-01      blue  data scientist    64.0   140.0   \n",
      "2        Joe    Schmoe  1970-01-01     brown        salesman    68.0   155.0   \n",
      "3       Jill     Smith  1975-01-01     brown         manager    66.0   150.0   \n",
      "4       John     Smith  1980-01-01     brown      programmer    72.0   180.0   \n",
      "5       Jane       Doe  1985-01-01      blue  data scientist    64.0   140.0   \n",
      "6        Joe    Schmoe  1970-01-01     brown        salesman    68.0   155.0   \n",
      "7       Jill     Smith  1975-01-01     brown         manager    66.0   150.0   \n",
      "\n",
      "  FAVORITE_COLOR  \n",
      "0           blue  \n",
      "1          green  \n",
      "2          brown  \n",
      "3           blue  \n",
      "4           blue  \n",
      "5          green  \n",
      "6          brown  \n",
      "7           blue  \n"
     ]
    }
   ],
   "source": [
    "# show table person\n",
    "query = \"\"\"\n",
    "select * from person;\n",
    "\"\"\"\n",
    "df = query_to_dataframe(conn, query)\n",
    "print(df)"
   ]
  },
  {
   "cell_type": "code",
   "execution_count": 27,
   "metadata": {},
   "outputs": [
    {
     "name": "stdout",
     "output_type": "stream",
     "text": [
      "   number of rows inserted\n",
      "0                        1\n"
     ]
    }
   ],
   "source": [
    "# insert single record in to person table with an explicit null for weight\n",
    "query = \"\"\"\n",
    "insert into person\n",
    "values ('Jack', 'Smith', '1990-01-01', 'brown', 'student', 72.0, null, 'blue');\n",
    "\"\"\"\n",
    "df = query_to_dataframe(conn, query)\n",
    "print(df)\n",
    "\n"
   ]
  },
  {
   "cell_type": "code",
   "execution_count": null,
   "metadata": {},
   "outputs": [],
   "source": []
  }
 ],
 "metadata": {
  "kernelspec": {
   "display_name": "pysnowpark",
   "language": "python",
   "name": "python3"
  },
  "language_info": {
   "codemirror_mode": {
    "name": "ipython",
    "version": 3
   },
   "file_extension": ".py",
   "mimetype": "text/x-python",
   "name": "python",
   "nbconvert_exporter": "python",
   "pygments_lexer": "ipython3",
   "version": "3.9.18"
  }
 },
 "nbformat": 4,
 "nbformat_minor": 2
}
